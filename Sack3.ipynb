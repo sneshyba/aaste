{
 "cells": [
  {
   "cell_type": "code",
   "execution_count": null,
   "metadata": {
    "collapsed": false
   },
   "outputs": [],
   "source": [
    "from sympy.physics.quantum.spin import Rotation\n",
    "from numpy import *\n",
    "from sympy import pi, symbols\n",
    "import sympy\n",
    "from sympy import I, sin, cos, exp\n",
    "import transformations as tra"
   ]
  },
  {
   "cell_type": "code",
   "execution_count": null,
   "metadata": {
    "collapsed": false
   },
   "outputs": [],
   "source": [
    "def f_App_A2(l1,l2,m,ri,rj):\n",
    "    f = (-1)**(m+l2) \\\n",
    "    *math.factorial(l1+l2) \\\n",
    "    *(math.factorial(l1+abs(m)) \\\n",
    "     *math.factorial(l1-abs(m)) \\\n",
    "     *math.factorial(l2+abs(m)) \\\n",
    "     *math.factorial(l2-abs(m)) )**(-.5) \\\n",
    "    *ri**l1 *rj**l2\n",
    "    return f\n",
    "\n",
    "def my_euler_matrix(omega):\n",
    "    alpha = omega[0]\n",
    "    beta = omega[1]\n",
    "    gamma = omega[2]\n",
    "    Re = tra.euler_matrix(alpha,beta,gamma, 'rxyz')\n",
    "    return matrix(Re)\n",
    "\n",
    "def my_euler_from_matrix(Re):\n",
    "    al, be, ga = tra.euler_from_matrix(Re, 'rxyz')\n",
    "    omega = [al,be,ga]\n",
    "    return omega\n",
    "\n",
    "# omega = [0, pi/2, 0]\n",
    "# Re = my_euler_matrix(omega)\n",
    "# newomega = my_euler_from_matrix(Re)\n",
    "# print newomega"
   ]
  },
  {
   "cell_type": "code",
   "execution_count": null,
   "metadata": {
    "collapsed": true
   },
   "outputs": [],
   "source": [
    "def expand_in_R(l1max,l2max,ri,rj,omega1i_bar,omega2j_bar,R):\n",
    "    brackets = 0\n",
    "    for l1 in range(l1max+1):\n",
    "        for l2 in range(l2max+1):\n",
    "            lmin = min(l1,l2)\n",
    "            for m in range (-lmin,lmin+1):\n",
    "                D1i = Rotation.D(l1, m, 0,omega1i_bar[0], omega1i_bar[1],0).doit()\n",
    "                D2j = Rotation.D(l2, m, 0,omega2j_bar[0], omega2j_bar[1],0).doit()\n",
    "                f = f_App_A2(l1,l2,m,ri,rj)\n",
    "                brackets += D1i*conj(D2j)*f/R**(l1+l2)\n",
    "    rij = eval(str(R / brackets))\n",
    "    return rij\n"
   ]
  },
  {
   "cell_type": "code",
   "execution_count": null,
   "metadata": {
    "collapsed": true
   },
   "outputs": [],
   "source": [
    "def expand_in_omega_R(l1max,l2max,ri,rj,omega1i_bar,omega2j_bar,omega1,omega2,R):\n",
    "    brackets = 0\n",
    "    for l1 in range(l1max+1):\n",
    "        for l2 in range(l2max+1):\n",
    "            lmin = min(l1,l2)\n",
    "            for m in range (-lmin,lmin+1):\n",
    "                D1i = 0\n",
    "                for mp in range(-l1,l1+1):\n",
    "                    temp1 = Rotation.D(l1, m, mp, omega1[0], omega1[1], omega1[2]).doit()\n",
    "                    temp2 = Rotation.D(l1, mp, 0, omega1i_bar[0], omega1i_bar[1], omega1i_bar[2]).doit()\n",
    "                    D1i += temp1*temp2\n",
    "                D2j = 0\n",
    "                for mp in range(-l2,l2+1):\n",
    "                    temp1 = Rotation.D(l2, m, mp, omega2[0], omega2[1], omega2[2]).doit()\n",
    "                    temp2 = Rotation.D(l2, mp, 0, omega2j_bar[0], omega2j_bar[1], omega2j_bar[2]).doit()\n",
    "                    D2j += temp1*temp2\n",
    "                f = f_App_A2(l1,l2,m,ri,rj)\n",
    "                brackets += D1i*conj(D2j)*f/R**(l1+l2)\n",
    "    rij = eval(str(R / brackets))\n",
    "    return rij\n"
   ]
  },
  {
   "cell_type": "code",
   "execution_count": null,
   "metadata": {
    "collapsed": true
   },
   "outputs": [],
   "source": [
    "def expand_in_omega_R_psi(l1max,l2max,ri,rj,omega1i_bar,omega2j_bar,omega1,omega2,R,psi):\n",
    "    brackets = 0\n",
    "    for l1 in range(l1max+1):\n",
    "        for l2 in range(l2max+1):\n",
    "            lmin = min(l1,l2)\n",
    "            for m in range (-lmin,lmin+1):\n",
    "                D1i = 0\n",
    "                for mp in range(-l1,l1+1):\n",
    "                    temp1 = 0\n",
    "                    for mpp in range(-l1,l1+1):\n",
    "                        tempp1 = Rotation.D(l1, m, mpp,  0,psi,0).doit()\n",
    "                        tempp2 = Rotation.D(l1, mpp, mp, omega1[0], omega1[1], omega1[2]).doit()\n",
    "                        temp1 += tempp1*tempp2\n",
    "                    temp2 = Rotation.D(l1, mp, 0, omega1i_bar[0], omega1i_bar[1], omega1i_bar[2]).doit()\n",
    "                    D1i += temp1*temp2\n",
    "                D2j = 0\n",
    "                for mp in range(-l2,l2+1):\n",
    "                    temp1 = 0\n",
    "                    for mpp in range(-l2,l2+1):\n",
    "                        tempp1 = Rotation.D(l2, m, mpp,  0,psi,0).doit()\n",
    "                        tempp2 = Rotation.D(l2, mpp, mp, omega2[0], omega2[1], omega2[2]).doit()\n",
    "                        temp1 += tempp1*tempp2\n",
    "                    temp2 = Rotation.D(l2, mp, 0, omega2j_bar[0], omega2j_bar[1], omega2j_bar[2]).doit()\n",
    "                    D2j += temp1*temp2\n",
    "                f = f_App_A2(l1,l2,m,ri,rj)\n",
    "                brackets += D1i*conj(D2j)*f/R**(l1+l2)\n",
    "    rij = eval(str(R / brackets))\n",
    "    return rij, brackets\n",
    "\n",
    "\n"
   ]
  },
  {
   "cell_type": "code",
   "execution_count": null,
   "metadata": {
    "collapsed": true
   },
   "outputs": [],
   "source": [
    "# Specify the order of the expansion\n",
    "l1max = 1\n",
    "l2max = 1"
   ]
  },
  {
   "cell_type": "code",
   "execution_count": null,
   "metadata": {
    "collapsed": false
   },
   "outputs": [],
   "source": [
    "# Now specify the molecule-fixed configuration\n",
    "small = 1e-3\n",
    "\n",
    "beta1i = .1;     alpha1i = .1;  ri = 1\n",
    "omega1i_bar = [alpha1i,beta1i,0]; \n",
    "beta2j = .1;     alpha2j = .1;  rj = 1\n",
    "omega2j_bar = [alpha2j,beta2j,0]; \n",
    "\n",
    "# Give the components of omegas as numerical values\n",
    "alpha1_num = 0\n",
    "beta1_num = .4*pi\n",
    "gamma1_num = 0\n",
    "alpha2_num = 0\n",
    "beta2_num = .6*pi\n",
    "gamma2_num = 0\n",
    "\n",
    "# And as symbolic values\n",
    "alpha1_sym, beta1_sym, gamma1_sym = symbols('alpha1_sym beta1_sym gamma1_sym', real=True)\n",
    "alpha2_sym, beta2_sym, gamma2_sym = symbols('alpha2_sym beta2_sym gamma2_sym', real=True)\n",
    "\n",
    "# Give the r-frame coordinate as numerical values\n",
    "R_num = 10\n",
    "psi_num = pi/4\n",
    "psi_num = 0  # When zero, the expansion with psi should equal the expansion without\n",
    "\n",
    "# And as symbolic values\n",
    "R_sym, psi_sym = symbols('R_sym psi_sym', real=True)"
   ]
  },
  {
   "cell_type": "code",
   "execution_count": null,
   "metadata": {
    "collapsed": false
   },
   "outputs": [],
   "source": [
    "# This is the original formulation\n",
    "\n",
    "# This is the position of atoms in the molecule-fixed frames (molecule 1 and 2)\n",
    "R = R_num\n",
    "\n",
    "# Expand\n",
    "rij = expand_in_R(l1max,l2max,ri,rj,omega1i_bar,omega2j_bar,R)\n",
    "#rij = rij.expand(complex=True)\n",
    "rij = eval(str(rij))\n",
    "print rij"
   ]
  },
  {
   "cell_type": "code",
   "execution_count": null,
   "metadata": {
    "collapsed": false
   },
   "outputs": [],
   "source": [
    "# Here, applying a rotation to each frame first\n",
    "\n",
    "# This relates the two frames\n",
    "R = R_num\n",
    "#print 'omega1_bar', omega1i_bar\n",
    "\n",
    "# Specify rotations of each frame\n",
    "omega1 = [alpha1_num,beta1_num,gamma1_num]; #print 'omega1', omega1\n",
    "omega2 = [alpha2_num,beta2_num,gamma2_num]\n",
    "\n",
    "# Apply it to get a new rotation matrix\n",
    "R_omega1i_bar = my_euler_matrix(omega1i_bar); #print 'R_omega1i_bar\\n', R_omega1i_bar\n",
    "R_omega2j_bar = my_euler_matrix(omega2j_bar)\n",
    "R_omega1 = my_euler_matrix(omega1); #print 'R_omega1\\n', R_omega1\n",
    "R_omega2 = my_euler_matrix(omega2)\n",
    "R_omega1_omega1i_bar = R_omega1*R_omega1i_bar; #print 'R_omega1_omega1i_bar\\n', R_omega1_omega1i_bar\n",
    "R_omega2_omega2j_bar = R_omega2*R_omega2j_bar\n",
    "\n",
    "# Get back the eulers\n",
    "omega1i_bar_p = my_euler_from_matrix(R_omega1_omega1i_bar); #print 'omega1i_bar_p', omega1i_bar_p\n",
    "omega2j_bar_p = my_euler_from_matrix(R_omega2_omega2j_bar); #print omega2j_bar_p\n",
    "\n",
    "# Expand using these new euler angles\n",
    "rij = expand_in_R(l1max,l2max,ri,rj,omega1i_bar_p,omega2j_bar_p,R)\n",
    "rij = rij.expand(complex=True)\n",
    "rij = eval(str(rij))\n",
    "print rij"
   ]
  },
  {
   "cell_type": "code",
   "execution_count": null,
   "metadata": {
    "collapsed": false
   },
   "outputs": [],
   "source": [
    "# Now we try an expansion of the Wigner D-matrices instead\n",
    "\n",
    "# This relates the two frames\n",
    "R = R_num\n",
    "\n",
    "# Specify rotations of each frame\n",
    "omega1 = [alpha1_num,beta1_num,gamma1_num];\n",
    "omega2 = [alpha2_num,beta2_num,gamma2_num]; \n",
    "\n",
    "# Expand\n",
    "rij = expand_in_omega_R(l1max,l2max,ri,rj,omega1i_bar,omega2j_bar,omega1,omega2,R)\n",
    "rij = rij.expand(complex=True)\n",
    "rij = eval(str(rij))\n",
    "rij = rij.subs(pi, 3.1415926535)\n",
    "print rij\n"
   ]
  },
  {
   "cell_type": "code",
   "execution_count": null,
   "metadata": {
    "collapsed": false
   },
   "outputs": [],
   "source": [
    "# Now we try an expansion of the Wigner D-matrices, with angle psi applied to both\n",
    "\n",
    "# This relates the two frames\n",
    "R = R_num\n",
    "psi = psi_num\n",
    "\n",
    "# Specify rotations of each frame\n",
    "omega1 = [alpha1_num,beta1_num,gamma1_num];\n",
    "omega2 = [alpha2_num,beta2_num,gamma2_num]; \n",
    "\n",
    "# Expand ... if psi=0, this result should equal the box above\n",
    "rij, brackets = expand_in_omega_R_psi(l1max,l2max,ri,rj,omega1i_bar,omega2j_bar,omega1,omega2,R,psi)\n",
    "rij = eval(str(rij))\n",
    "print rij"
   ]
  },
  {
   "cell_type": "code",
   "execution_count": null,
   "metadata": {
    "collapsed": false
   },
   "outputs": [],
   "source": [
    "# Now we try the same with symbolic variables\n",
    "\n",
    "# This relates the two frames\n",
    "R = R_sym\n",
    "psi = psi_sym\n",
    "\n",
    "# Specify rotations of each frame\n",
    "omega1 = [alpha1_sym, beta1_sym, gamma1_sym];\n",
    "omega2 = [alpha2_sym, beta2_sym, gamma2_sym]; \n",
    "\n",
    "# Expand\n",
    "rij_sym, brackets_sym = expand_in_omega_R_psi(l1max,l2max,ri,rj,omega1i_bar,omega2j_bar,omega1,omega2,R,psi)\n",
    "rij_sym = rij_sym.expand(complex=True)\n",
    "brackets_sym = brackets_sym.expand(complex=True)\n",
    "#print rij_sym"
   ]
  },
  {
   "cell_type": "code",
   "execution_count": null,
   "metadata": {
    "collapsed": false
   },
   "outputs": [],
   "source": [
    "# Evaluate for numerical values of R, psi, etc ... this should equal the \"expand_in_omega_R_psi\" result above\n",
    "rij1 = rij_sym.subs([ \\\n",
    "                  (R_sym,R_num),\\\n",
    "                  (psi_sym,psi_num),\\\n",
    "                  (alpha1_sym,alpha1_num),\\\n",
    "                  (beta1_sym,beta1_num),\\\n",
    "                  (gamma1_sym,gamma1_num),\\\n",
    "                  (alpha2_sym,alpha2_num),\\\n",
    "                  (beta2_sym,beta2_num),\\\n",
    "                  (gamma2_sym,gamma1_num),\\\n",
    "               ]\n",
    "               )\n",
    "rij1 = eval(str(rij1))\n",
    "print rij1"
   ]
  },
  {
   "cell_type": "code",
   "execution_count": null,
   "metadata": {
    "collapsed": false
   },
   "outputs": [],
   "source": [
    "# This is to look at the expansion of the term in brackets\n",
    "alpha1, beta1, gamma1 = symbols('alpha1 beta1 gamma1', real=True)\n",
    "alpha2, beta2, gamma2 = symbols('alpha2 beta2 gamma2', real=True)\n",
    "R, psi = symbols('R psi', real=True)\n",
    "\n",
    "# These substitutions are just for aesthetics\n",
    "brackets_sym = brackets_sym.subs([ \\\n",
    "                  (R_sym,R),\\\n",
    "                  (psi_sym,psi),\\\n",
    "                  (alpha1_sym,alpha1),\\\n",
    "                  (beta1_sym,beta1),\\\n",
    "                  (gamma1_sym,gamma1),\\\n",
    "                  (alpha2_sym,alpha2),\\\n",
    "                  (beta2_sym,beta2),\\\n",
    "                  (gamma2_sym,gamma1),\\\n",
    "                 ])\n",
    "\n",
    "# Print the term in brackets\n",
    "sympy.pretty_print(brackets_sym)\n",
    "\n",
    "# Print terms according to powers of 1/R\n",
    "x = symbols('x', real=True)\n",
    "test = brackets_sym.subs(R, 1/x)\n",
    "for i in range(3):\n",
    "    term = test.diff(x,i).subs(x,0)/math.factorial(i)\n",
    "    print \"Coefficient of 1/R^\", i\n",
    "    #sympy.pretty_print(term)\n",
    "    print(term)\n",
    "    print \"\\n\"\n"
   ]
  },
  {
   "cell_type": "code",
   "execution_count": null,
   "metadata": {
    "collapsed": true
   },
   "outputs": [],
   "source": []
  }
 ],
 "metadata": {
  "kernelspec": {
   "display_name": "Python 2",
   "language": "python",
   "name": "python2"
  },
  "language_info": {
   "codemirror_mode": {
    "name": "ipython",
    "version": 2
   },
   "file_extension": ".py",
   "mimetype": "text/x-python",
   "name": "python",
   "nbconvert_exporter": "python",
   "pygments_lexer": "ipython2",
   "version": "2.7.10"
  }
 },
 "nbformat": 4,
 "nbformat_minor": 0
}
