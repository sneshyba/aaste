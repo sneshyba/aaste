{
 "cells": [
  {
   "cell_type": "code",
   "execution_count": 1,
   "metadata": {
    "collapsed": false
   },
   "outputs": [],
   "source": [
    "from sympy.physics.quantum.spin import Rotation\n",
    "from numpy import *\n",
    "from sympy import pi, symbols\n",
    "import sympy\n",
    "from sympy import I, sin, cos, exp\n",
    "import transformations as tra"
   ]
  },
  {
   "cell_type": "code",
   "execution_count": 2,
   "metadata": {
    "collapsed": false
   },
   "outputs": [],
   "source": [
    "def f_App_A2(l1,l2,m,ri,rj):\n",
    "    f = (-1)**(m+l2) \\\n",
    "    *math.factorial(l1+l2) \\\n",
    "    *(math.factorial(l1+abs(m)) \\\n",
    "     *math.factorial(l1-abs(m)) \\\n",
    "     *math.factorial(l2+abs(m)) \\\n",
    "     *math.factorial(l2-abs(m)) )**(-.5) \\\n",
    "    *ri**l1 *rj**l2\n",
    "    return f\n",
    "\n",
    "def my_euler_matrix(omega):\n",
    "    alpha = omega[0]\n",
    "    beta = omega[1]\n",
    "    gamma = omega[2]\n",
    "    Re = tra.euler_matrix(alpha,beta,gamma, 'rxyz')\n",
    "    return matrix(Re)\n",
    "\n",
    "def my_euler_from_matrix(Re):\n",
    "    al, be, ga = tra.euler_from_matrix(Re, 'rxyz')\n",
    "    omega = [al,be,ga]\n",
    "    return omega\n",
    "\n",
    "# omega = [0, pi/2, 0]\n",
    "# Re = my_euler_matrix(omega)\n",
    "# newomega = my_euler_from_matrix(Re)\n",
    "# print newomega"
   ]
  },
  {
   "cell_type": "code",
   "execution_count": 3,
   "metadata": {
    "collapsed": true
   },
   "outputs": [],
   "source": [
    "def expand_in_R(l1max,l2max,ri,rj,omega1i_bar,omega2j_bar,R):\n",
    "    brackets = 0\n",
    "    for l1 in range(l1max+1):\n",
    "        for l2 in range(l2max+1):\n",
    "            lmin = min(l1,l2)\n",
    "            for m in range (-lmin,lmin+1):\n",
    "                D1i = Rotation.D(l1, m, 0,omega1i_bar[0], omega1i_bar[1],0).doit()\n",
    "                D2j = Rotation.D(l2, m, 0,omega2j_bar[0], omega2j_bar[1],0).doit()\n",
    "                f = f_App_A2(l1,l2,m,ri,rj)\n",
    "                brackets += D1i*conj(D2j)*f/R**(l1+l2)\n",
    "    rij = eval(str(R / brackets))\n",
    "    try:\n",
    "        rij = rij.expand(complex=True)\n",
    "    except:\n",
    "        pass\n",
    "    rij = eval(str(rij))\n",
    "    return rij, brackets\n"
   ]
  },
  {
   "cell_type": "code",
   "execution_count": 30,
   "metadata": {
    "collapsed": true
   },
   "outputs": [],
   "source": [
    "def expand_in_Rp(l1max,l2max,ri,rj,omega1i_bar,omega2j_bar,R):\n",
    "    brackets = 0\n",
    "    for l1 in range(l1max+1):\n",
    "        for l2 in range(l2max+1):\n",
    "            lmin = min(l1,l2)\n",
    "            for m in range (-lmin,lmin+1):\n",
    "                D1i = Rotation.D(l1, m, 0,omega1i_bar[0], omega1i_bar[1], omega1i_bar[2]).doit()\n",
    "                D2j = Rotation.D(l2, m, 0,omega2j_bar[0], omega2j_bar[1], omega2j_bar[2]).doit()\n",
    "                f = f_App_A2(l1,l2,m,ri,rj)\n",
    "                brackets += D1i*conj(D2j)*f/R**(l1+l2)\n",
    "    rij = eval(str(R / brackets))\n",
    "    try:\n",
    "        rij = rij.expand(complex=True)\n",
    "    except:\n",
    "        pass\n",
    "    rij = eval(str(rij))\n",
    "    return rij, brackets\n"
   ]
  },
  {
   "cell_type": "code",
   "execution_count": 4,
   "metadata": {
    "collapsed": true
   },
   "outputs": [],
   "source": [
    "def expand_in_omega_R(l1max,l2max,ri,rj,omega1i_bar,omega2j_bar,omega1,omega2,R):\n",
    "    brackets = 0\n",
    "    for l1 in range(l1max+1):\n",
    "        for l2 in range(l2max+1):\n",
    "            lmin = min(l1,l2)\n",
    "            for m in range (-lmin,lmin+1):\n",
    "                D1i = 0\n",
    "                for mp in range(-l1,l1+1):\n",
    "                    temp1 = Rotation.D(l1, m, mp, omega1[0], omega1[1], omega1[2]).doit()\n",
    "                    temp2 = Rotation.D(l1, mp, 0, omega1i_bar[0], omega1i_bar[1], omega1i_bar[2]).doit()\n",
    "                    D1i += temp1*temp2\n",
    "                D2j = 0\n",
    "                for mp in range(-l2,l2+1):\n",
    "                    temp1 = Rotation.D(l2, m, mp, omega2[0], omega2[1], omega2[2]).doit()\n",
    "                    temp2 = Rotation.D(l2, mp, 0, omega2j_bar[0], omega2j_bar[1], omega2j_bar[2]).doit()\n",
    "                    D2j += temp1*temp2\n",
    "                f = f_App_A2(l1,l2,m,ri,rj)\n",
    "                brackets += D1i*conj(D2j)*f/R**(l1+l2)\n",
    "    rij = eval(str(R / brackets))\n",
    "    try:\n",
    "        rij = rij.expand(complex=True)\n",
    "        brackets = brackets.expand(complex=True)\n",
    "    except:\n",
    "        pass\n",
    "    return rij, brackets\n",
    "\n",
    "# These are handy ways to force a numerical evaluation ...\n",
    "# rij = eval(str(rij))\n",
    "# rij = rij.subs(pi, 3.1415926535)"
   ]
  },
  {
   "cell_type": "code",
   "execution_count": 5,
   "metadata": {
    "collapsed": true
   },
   "outputs": [],
   "source": [
    "def expand_in_omega_R_psi(l1max,l2max,ri,rj,omega1i_bar,omega2j_bar,omega1,omega2,R,psi):\n",
    "    brackets = 0\n",
    "    for l1 in range(l1max+1):\n",
    "        for l2 in range(l2max+1):\n",
    "            lmin = min(l1,l2)\n",
    "            for m in range (-lmin,lmin+1):\n",
    "                D1i = 0\n",
    "                for mp in range(-l1,l1+1):\n",
    "                    temp1 = 0\n",
    "                    for mpp in range(-l1,l1+1):\n",
    "                        tempp1 = Rotation.D(l1, m, mpp,  0,psi,0).doit()\n",
    "                        tempp2 = Rotation.D(l1, mpp, mp, omega1[0], omega1[1], omega1[2]).doit()\n",
    "                        temp1 += tempp1*tempp2\n",
    "                    temp2 = Rotation.D(l1, mp, 0, omega1i_bar[0], omega1i_bar[1], omega1i_bar[2]).doit()\n",
    "                    D1i += temp1*temp2\n",
    "                D2j = 0\n",
    "                for mp in range(-l2,l2+1):\n",
    "                    temp1 = 0\n",
    "                    for mpp in range(-l2,l2+1):\n",
    "                        tempp1 = Rotation.D(l2, m, mpp,  0,psi,0).doit()\n",
    "                        tempp2 = Rotation.D(l2, mpp, mp, omega2[0], omega2[1], omega2[2]).doit()\n",
    "                        temp1 += tempp1*tempp2\n",
    "                    temp2 = Rotation.D(l2, mp, 0, omega2j_bar[0], omega2j_bar[1], omega2j_bar[2]).doit()\n",
    "                    D2j += temp1*temp2\n",
    "                f = f_App_A2(l1,l2,m,ri,rj)\n",
    "                brackets += D1i*conj(D2j)*f/R**(l1+l2)\n",
    "    rij = eval(str(R / brackets))\n",
    "    try:\n",
    "        rij = rij.expand(complex=True)\n",
    "        brackets = brackets.expand(complex=True)\n",
    "    except:\n",
    "        pass\n",
    "    return rij, brackets"
   ]
  },
  {
   "cell_type": "code",
   "execution_count": 6,
   "metadata": {
    "collapsed": false
   },
   "outputs": [],
   "source": [
    "def evaluateRomegas(rij_sym, \\\n",
    "               R_sym, R_num, \\\n",
    "               omega1_sym, omega1_num, \\\n",
    "               omega2_sym, omega2_num \\\n",
    "             ):\n",
    "    # Evaluate for numerical values of R, psi, etc\n",
    "    alpha1_sym =  omega1_sym[0]; alpha1_num =  omega1_num[0]\n",
    "    beta1_sym  =  omega1_sym[1]; beta1_num  =  omega1_num[1]\n",
    "    gamma1_sym =  omega1_sym[2]; gamma1_num =  omega1_num[2]\n",
    "    alpha2_sym =  omega2_sym[0]; alpha2_num =  omega2_num[0]\n",
    "    beta2_sym  =  omega2_sym[1]; beta2_num  =  omega2_num[1]\n",
    "    gamma2_sym =  omega2_sym[2]; gamma2_num =  omega2_num[2] \n",
    "    rij = rij_sym.subs([ \\\n",
    "                  (R_sym,R_num),\\\n",
    "                  (alpha1_sym,alpha1_num),\\\n",
    "                  (beta1_sym,beta1_num),\\\n",
    "                  (gamma1_sym,gamma1_num),\\\n",
    "                  (alpha2_sym,alpha2_num),\\\n",
    "                  (beta2_sym,beta2_num),\\\n",
    "                  (gamma2_sym,gamma1_num),\\\n",
    "               ]\n",
    "               )\n",
    "    rij = eval(str(rij))\n",
    "    return rij\n",
    "\n",
    "def evaluatepsi(rij_sym, \\\n",
    "               psi_sym, psi_num):\n",
    "\n",
    "    rij = rij_sym.subs(psi_sym,psi_num)\n",
    "    return rij"
   ]
  },
  {
   "cell_type": "code",
   "execution_count": 21,
   "metadata": {
    "collapsed": false
   },
   "outputs": [],
   "source": [
    "def showbrackets(brackets_sym):\n",
    "\n",
    "    # This is to look at the expansion of the term in brackets\n",
    "    alpha1, beta1, gamma1 = symbols('alpha1 beta1 gamma1', real=True)\n",
    "    alpha2, beta2, gamma2 = symbols('alpha2 beta2 gamma2', real=True)\n",
    "    R, psi = symbols('R psi', real=True)\n",
    "\n",
    "    # These substitutions are just for aesthetics\n",
    "    brackets_sym = brackets_sym.subs([ \\\n",
    "                  (R_sym,R),\\\n",
    "                  (alpha1_sym,alpha1),\\\n",
    "                  (beta1_sym,beta1),\\\n",
    "                  (gamma1_sym,gamma1),\\\n",
    "                  (alpha2_sym,alpha2),\\\n",
    "                  (beta2_sym,beta2),\\\n",
    "                  (gamma2_sym,gamma1),\\\n",
    "                 ])\n",
    "\n",
    "    try:\n",
    "        brackets_sym = brackets_sym.subs(psi_sym,psi)\n",
    "    except:\n",
    "        pass\n",
    "\n",
    "    # Print the term in brackets\n",
    "    #sympy.pretty_print(brackets_sym)\n",
    "\n",
    "    # Print terms according to powers of 1/R\n",
    "    x = symbols('x', real=True)\n",
    "    test = brackets_sym.subs(R, 1/x)\n",
    "    for i in range(4):\n",
    "        term = test.diff(x,i).subs(x,0)/math.factorial(i)\n",
    "        print \"Coefficient of 1/R^\", i\n",
    "        #sympy.pretty_print(term)\n",
    "        print(term)\n",
    "        print \"\\n\""
   ]
  },
  {
   "cell_type": "code",
   "execution_count": 29,
   "metadata": {
    "collapsed": false
   },
   "outputs": [
    {
     "name": "stdout",
     "output_type": "stream",
     "text": [
      "1\n",
      "0\n",
      "0\n"
     ]
    }
   ],
   "source": [
    "for m in range(3):\n",
    "    print Rotation.D(2, m, 0, 0,0,0).doit()"
   ]
  },
  {
   "cell_type": "code",
   "execution_count": 8,
   "metadata": {
    "collapsed": true
   },
   "outputs": [],
   "source": [
    "# Specify the order of the expansion\n",
    "l1max = 2\n",
    "l2max = 1\n",
    "small = 1e-3\n",
    "\n",
    "# This is the distance between frames\n",
    "R_num = 10"
   ]
  },
  {
   "cell_type": "code",
   "execution_count": 9,
   "metadata": {
    "collapsed": false
   },
   "outputs": [
    {
     "name": "stdout",
     "output_type": "stream",
     "text": [
      "[0.1, 1.5, 0]\n",
      "[0, 0, 0]\n",
      "11.083875375\n"
     ]
    }
   ],
   "source": [
    "# This is the original formulation\n",
    "\n",
    "# Specify the atomic configurations\n",
    "beta1i = 1.5;      alpha1i = 0.1;  ri = 1; omega1i_bar = [alpha1i,beta1i,0]; \n",
    "beta2j = 0;        alpha2j = 0;  rj = 1; omega2j_bar = [alpha2j,beta2j,0]; \n",
    "\n",
    "# Expand\n",
    "print omega1i_bar\n",
    "print omega2j_bar\n",
    "rij, brackets = expand_in_R(l1max,l2max,ri,rj,omega1i_bar,omega2j_bar,R_num)\n",
    "print rij"
   ]
  },
  {
   "cell_type": "code",
   "execution_count": 32,
   "metadata": {
    "collapsed": false
   },
   "outputs": [
    {
     "name": "stdout",
     "output_type": "stream",
     "text": [
      "[0.1, 1.5, -0.0]\n",
      "[-0.0, 0.0, -0.0]\n",
      "11.083875375\n"
     ]
    }
   ],
   "source": [
    "# Here, start with atoms along the z-axis, and rotate the frames to match the above\n",
    "\n",
    "# Specify the atomic configurations\n",
    "beta1i = 0;     alpha1i = 0;  ri = 1; omega1i_bar = [alpha1i,beta1i,0]; \n",
    "beta2j = 0;     alpha2j = 0;  rj = 1; omega2j_bar = [alpha2j,beta2j,0]; \n",
    "\n",
    "# Specify a frame rotation for each atom\n",
    "alpha1_num = 0.1\n",
    "beta1_num = 1.5\n",
    "gamma1_num = 0\n",
    "omega1_num = [alpha1_num,beta1_num,gamma1_num]\n",
    "\n",
    "alpha2_num = 0\n",
    "beta2_num =  0\n",
    "gamma2_num = 0\n",
    "omega2_num = [alpha2_num,beta2_num,gamma2_num]\n",
    "\n",
    "# Translate to rotation matrices, combine them, and get back the euler angles\n",
    "R_omega1i_bar = my_euler_matrix(omega1i_bar)\n",
    "R_omega2j_bar = my_euler_matrix(omega2j_bar)\n",
    "R_omega1 = my_euler_matrix(omega1_num)\n",
    "R_omega2 = my_euler_matrix(omega2_num)\n",
    "R_omega1_omega1i_bar = R_omega1*R_omega1i_bar\n",
    "R_omega2_omega2j_bar = R_omega2*R_omega2j_bar\n",
    "omega1i_bar_p = my_euler_from_matrix(R_omega1_omega1i_bar)\n",
    "omega2j_bar_p = my_euler_from_matrix(R_omega2_omega2j_bar)\n",
    "\n",
    "# Expand using these new euler angles (which should be the same as the previous ones)\n",
    "print omega1i_bar_p\n",
    "print omega2j_bar_p\n",
    "rij, brackets = expand_in_R(l1max,l2max,ri,rj,omega1i_bar_p,omega2j_bar_p,R_num)\n",
    "print rij"
   ]
  },
  {
   "cell_type": "code",
   "execution_count": 33,
   "metadata": {
    "collapsed": false
   },
   "outputs": [
    {
     "name": "stdout",
     "output_type": "stream",
     "text": [
      "11.083875375\n"
     ]
    }
   ],
   "source": [
    "# Now try an omega-R expansion of the Wigner D-matrices instead\n",
    "rij, brackets = expand_in_omega_R(l1max,l2max,ri,rj,omega1i_bar,omega2j_bar,omega1_num,omega2_num,R_num)\n",
    "print rij"
   ]
  },
  {
   "cell_type": "code",
   "execution_count": 34,
   "metadata": {
    "collapsed": false
   },
   "outputs": [
    {
     "name": "stdout",
     "output_type": "stream",
     "text": [
      "11.083875375\n"
     ]
    }
   ],
   "source": [
    "# Now try an R-expansion of the Wigner D-matrices alone\n",
    "rij, brackets = expand_in_Rp(l1max,l2max,ri,rj,omega1_num,omega2_num,R_num)\n",
    "print rij"
   ]
  },
  {
   "cell_type": "code",
   "execution_count": 35,
   "metadata": {
    "collapsed": false
   },
   "outputs": [],
   "source": [
    "# Now try an expansion of the Wigner D-matrices, but with symbolic variables\n",
    "\n",
    "# Create the symbolic values\n",
    "R_sym = symbols('R_sym', real=True)\n",
    "alpha1_sym, beta1_sym, gamma1_sym = symbols('alpha1_sym beta1_sym gamma1_sym', real=True)\n",
    "alpha2_sym, beta2_sym, gamma2_sym = symbols('alpha2_sym beta2_sym gamma2_sym', real=True)\n",
    "omega1_sym = [alpha1_sym, beta1_sym, gamma1_sym];\n",
    "omega2_sym = [alpha2_sym, beta2_sym, gamma2_sym]; \n",
    "\n",
    "# Expand\n",
    "rij_sym, brackets_sym = expand_in_omega_R(l1max,l2max,ri,rj,omega1i_bar,omega2j_bar,omega1_sym,omega2_sym,R_sym)\n",
    "#print rij_sym"
   ]
  },
  {
   "cell_type": "code",
   "execution_count": 36,
   "metadata": {
    "collapsed": false
   },
   "outputs": [
    {
     "name": "stdout",
     "output_type": "stream",
     "text": [
      "11.0746691061\n"
     ]
    }
   ],
   "source": [
    "# To check, evaluate the symbolic variables at numerical values \n",
    "rij_eval = evaluateRomegas(rij_sym, \\\n",
    "               R_sym, R_num, \\\n",
    "               omega1_sym, omega1_num, \\\n",
    "               omega2_sym, omega2_num \\\n",
    "             )\n",
    "print rij_eval"
   ]
  },
  {
   "cell_type": "code",
   "execution_count": 26,
   "metadata": {
    "collapsed": false
   },
   "outputs": [
    {
     "name": "stdout",
     "output_type": "stream",
     "text": [
      "Coefficient of 1/R^ 0\n",
      "1.00000000000000\n",
      "\n",
      "\n",
      "Coefficient of 1/R^ 1\n",
      "1.0*cos(beta1) - 1.0*cos(beta2)\n",
      "\n",
      "\n",
      "Coefficient of 1/R^ 2\n",
      "sin(alpha1)*sin(alpha2)*sin(beta1)*sin(beta2) + sin(beta1)*sin(beta2)*cos(alpha1)*cos(alpha2) - 2.0*cos(beta1)*cos(beta2) + 0.75*cos(2*beta1) + 0.25\n",
      "\n",
      "\n",
      "Coefficient of 1/R^ 3\n",
      "0.866025403784439*sqrt(3)*sin(alpha1)*sin(alpha2)*sin(2*beta1)*sin(beta2) + 0.866025403784439*sqrt(3)*sin(2*beta1)*sin(beta2)*cos(alpha1)*cos(alpha2) - 2.25*cos(2*beta1)*cos(beta2) - 0.75*cos(beta2)\n",
      "\n",
      "\n"
     ]
    }
   ],
   "source": [
    "# Also good to check the brackets\n",
    "showbrackets(brackets_sym)"
   ]
  },
  {
   "cell_type": "code",
   "execution_count": 17,
   "metadata": {
    "collapsed": false
   },
   "outputs": [
    {
     "name": "stdout",
     "output_type": "stream",
     "text": [
      "11.083875375\n"
     ]
    }
   ],
   "source": [
    "# Now we try an expansion of the Wigner D-matrices, with angle psi applied to both\n",
    "\n",
    "# This is the angle ... if psi=0, this result should equal the box above\n",
    "psi_num = 0\n",
    "\n",
    "# Expand \n",
    "rij, brackets = \\\n",
    "    expand_in_omega_R_psi(l1max,l2max,ri,rj,omega1i_bar,omega2j_bar,omega1_num,omega2_num,R_num,psi_num)\n",
    "print rij"
   ]
  },
  {
   "cell_type": "code",
   "execution_count": 18,
   "metadata": {
    "collapsed": false
   },
   "outputs": [],
   "source": [
    "# Now we try the same with symbolic variables\n",
    "\n",
    "# Create the symbolic variable\n",
    "psi_sym = symbols('psi_sym', real=True)\n",
    "\n",
    "# Expand\n",
    "rij_sym, brackets_sym = \\\n",
    "    expand_in_omega_R_psi(l1max,l2max,ri,rj,omega1i_bar,omega2j_bar,omega1_sym,omega2_sym,R_sym,psi_sym)\n",
    "#print rij_sym"
   ]
  },
  {
   "cell_type": "code",
   "execution_count": 19,
   "metadata": {
    "collapsed": false
   },
   "outputs": [
    {
     "name": "stdout",
     "output_type": "stream",
     "text": [
      "11.0894142940430\n"
     ]
    }
   ],
   "source": [
    "# To check, evaluate the symbolic variables at numerical values \n",
    "rij_eval1 = evaluateRomegas(rij_sym, \\\n",
    "               R_sym, R_num, \\\n",
    "               omega1_sym, omega1_num, \\\n",
    "               omega2_sym, omega2_num \\\n",
    "             )\n",
    "rij_eval2 = evaluatepsi(rij_eval1, psi_sym, psi_num)\n",
    "print rij_eval2"
   ]
  },
  {
   "cell_type": "code",
   "execution_count": 22,
   "metadata": {
    "collapsed": false
   },
   "outputs": [
    {
     "name": "stdout",
     "output_type": "stream",
     "text": [
      "Coefficient of 1/R^ 0\n",
      "1.00000000000000\n",
      "\n",
      "\n",
      "Coefficient of 1/R^ 1\n",
      "-1.0*sin(beta1)*sin(psi)*cos(alpha1) + 1.0*sin(beta2)*sin(psi)*cos(alpha2) + 1.0*cos(beta1)*cos(psi) - 1.0*cos(beta2)*cos(psi)\n",
      "\n",
      "\n",
      "Coefficient of 1/R^ 2\n",
      "sin(alpha1)*sin(alpha2)*sin(beta1)*sin(beta2) + 0.75*sin(beta1)**2*sin(psi)**2*cos(2*alpha1) - 2.0*sin(beta1)*sin(beta2)*sin(psi)**2*cos(alpha1)*cos(alpha2) + sin(beta1)*sin(beta2)*cos(alpha1)*cos(alpha2)*cos(psi)**2 + 3.0*sin(beta1)*sin(psi)*cos(alpha1)*cos(beta2)*cos(psi) - 0.75*sin(2*beta1)*sin(2*psi)*cos(alpha1) + 3.0*sin(beta2)*sin(psi)*cos(alpha2)*cos(beta1)*cos(psi) + sin(psi)**2*cos(beta1)*cos(beta2) - 2.0*cos(beta1)*cos(beta2)*cos(psi)**2 + 0.5625*cos(2*beta1)*cos(2*psi) + 0.1875*cos(2*beta1) + 0.1875*cos(2*psi) + 0.0625\n",
      "\n",
      "\n",
      "Coefficient of 1/R^ 3\n",
      "0.866025403784439*sqrt(3)*sin(alpha1)*sin(alpha2)*sin(2*beta1)*sin(beta2)*cos(psi) - 0.21650635094611*sqrt(3)*sin(2*alpha1)*sin(alpha2)*sin(beta1)**2*sin(beta2)*sin(psi)*cos(psi) - 0.866025403784439*sqrt(3)*sin(2*alpha1)*sin(alpha2)*sin(beta1)**2*sin(beta2)*sin(psi) + 0.108253175473055*sqrt(3)*sin(2*alpha1)*sin(alpha2)*sin(beta1)**2*sin(beta2)*sin(2*psi) - 0.21650635094611*sqrt(3)*I*sin(2*alpha1)*sin(beta1)**2*sin(beta2)*sin(psi)*cos(alpha2)*cos(psi)**2 + 0.108253175473055*sqrt(3)*I*sin(2*alpha1)*sin(beta1)**2*sin(beta2)*sin(2*psi)*cos(alpha2)*cos(psi) - 0.21650635094611*sqrt(3)*I*sin(2*alpha1)*sin(beta1)**2*sin(psi)**2*cos(beta2)*cos(psi) + 0.108253175473055*sqrt(3)*I*sin(2*alpha1)*sin(beta1)**2*sin(psi)*sin(2*psi)*cos(beta2) - 0.21650635094611*sqrt(3)*I*sin(alpha2)*sin(beta1)**2*sin(beta2)*sin(psi)*cos(2*alpha1)*cos(psi) + 0.108253175473055*sqrt(3)*I*sin(alpha2)*sin(beta1)**2*sin(beta2)*sin(2*psi)*cos(2*alpha1) + 2.25*sin(beta1)**2*sin(beta2)*sin(psi)**3*cos(2*alpha1)*cos(alpha2) - 0.649519052838329*sqrt(3)*sin(beta1)**2*sin(beta2)*sin(psi)*cos(2*alpha1)*cos(alpha2)*cos(psi)**2 - 0.108253175473055*sqrt(3)*sin(beta1)**2*sin(beta2)*sin(2*psi)*cos(2*alpha1)*cos(alpha2)*cos(psi) - 2.25*sin(beta1)**2*sin(psi)**2*cos(2*alpha1)*cos(beta2)*cos(psi) - 0.649519052838329*sqrt(3)*sin(beta1)**2*sin(psi)**2*cos(2*alpha1)*cos(beta2)*cos(psi) - 0.108253175473055*sqrt(3)*sin(beta1)**2*sin(psi)*sin(2*psi)*cos(2*alpha1)*cos(beta2) - 2.25*sin(2*beta1)*sin(beta2)*sin(psi)*sin(2*psi)*cos(alpha1)*cos(alpha2) + 0.866025403784439*sqrt(3)*sin(2*beta1)*sin(beta2)*cos(alpha1)*cos(alpha2)*cos(psi)*cos(2*psi) + 0.866025403784439*sqrt(3)*sin(2*beta1)*sin(psi)*cos(alpha1)*cos(beta2)*cos(2*psi) + 2.25*sin(2*beta1)*sin(2*psi)*cos(alpha1)*cos(beta2)*cos(psi) + 1.6875*sin(beta2)*sin(psi)*cos(alpha2)*cos(2*beta1)*cos(2*psi) + 0.5625*sin(beta2)*sin(psi)*cos(alpha2)*cos(2*beta1) + 0.5625*sin(beta2)*sin(psi)*cos(alpha2)*cos(2*psi) + 0.1875*sin(beta2)*sin(psi)*cos(alpha2) + 0.649519052838329*sqrt(3)*sin(beta2)*sin(2*psi)*cos(alpha2)*cos(2*beta1)*cos(psi) + 0.21650635094611*sqrt(3)*sin(beta2)*sin(2*psi)*cos(alpha2)*cos(psi) + 0.649519052838329*sqrt(3)*sin(psi)*sin(2*psi)*cos(2*beta1)*cos(beta2) + 0.21650635094611*sqrt(3)*sin(psi)*sin(2*psi)*cos(beta2) - 1.6875*cos(2*beta1)*cos(beta2)*cos(psi)*cos(2*psi) - 0.5625*cos(2*beta1)*cos(beta2)*cos(psi) - 0.5625*cos(beta2)*cos(psi)*cos(2*psi) - 0.1875*cos(beta2)*cos(psi)\n",
      "\n",
      "\n"
     ]
    }
   ],
   "source": [
    "# Also good to check the brackets\n",
    "showbrackets(brackets_sym)"
   ]
  },
  {
   "cell_type": "code",
   "execution_count": null,
   "metadata": {
    "collapsed": true
   },
   "outputs": [],
   "source": []
  }
 ],
 "metadata": {
  "kernelspec": {
   "display_name": "Python 2",
   "language": "python",
   "name": "python2"
  },
  "language_info": {
   "codemirror_mode": {
    "name": "ipython",
    "version": 2
   },
   "file_extension": ".py",
   "mimetype": "text/x-python",
   "name": "python",
   "nbconvert_exporter": "python",
   "pygments_lexer": "ipython2",
   "version": "2.7.10"
  }
 },
 "nbformat": 4,
 "nbformat_minor": 0
}
