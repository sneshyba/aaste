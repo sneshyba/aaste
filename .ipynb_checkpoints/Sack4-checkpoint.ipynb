{
 "cells": [
  {
   "cell_type": "code",
   "execution_count": 1,
   "metadata": {
    "collapsed": false
   },
   "outputs": [],
   "source": [
    "from sympy.physics.quantum.spin import Rotation\n",
    "from numpy import *\n",
    "import numpy as np\n",
    "import sympy\n",
    "from sympy import I, sin, cos, exp, pi, symbols"
   ]
  },
  {
   "cell_type": "code",
   "execution_count": 2,
   "metadata": {
    "collapsed": false
   },
   "outputs": [],
   "source": [
    "def f_App_A2(l1,l2,m,ri,rj):\n",
    "    f = (-1)**(m+l2) \\\n",
    "    *math.factorial(l1+l2) \\\n",
    "    *(math.factorial(l1+abs(m)) \\\n",
    "     *math.factorial(l1-abs(m)) \\\n",
    "     *math.factorial(l2+abs(m)) \\\n",
    "     *math.factorial(l2-abs(m)) )**(-.5) \\\n",
    "    *ri**l1 *rj**l2\n",
    "    return f"
   ]
  },
  {
   "cell_type": "code",
   "execution_count": 3,
   "metadata": {
    "collapsed": true
   },
   "outputs": [],
   "source": [
    "def euler_to_matrix(omega):\n",
    "    # 3-1-3 extrinsic ... see https://en.wikipedia.org/wiki/Rotation_formalisms_in_three_dimensions\n",
    "    alpha = omega[0]\n",
    "    beta = omega[1]\n",
    "    gamma = omega[2]\n",
    "    c1 = cos(alpha); c2 = cos(beta); c3 = cos(gamma)\n",
    "    s1 = sin(alpha); s2 = sin(beta); s3 = sin(gamma)\n",
    "    A11 = c1*c3-c2*s1*s3\n",
    "    A12 = c1*s3-c2*c3*s1\n",
    "    A13 = s1*s2\n",
    "    A21 = c3*s1+c1*c2*s3\n",
    "    A22 = c1*c2*c3-s1*s3\n",
    "    A23 = -c1*s2\n",
    "    A31 = s2*s3\n",
    "    A32 = c3*s2\n",
    "    A33 = c2\n",
    "    Re = matrix([[A11, A12, A13],[A21, A22, A23],[A31, A32, A33]]).astype(float)\n",
    "    return Re\n"
   ]
  },
  {
   "cell_type": "code",
   "execution_count": 4,
   "metadata": {
    "collapsed": false
   },
   "outputs": [
    {
     "name": "stdout",
     "output_type": "stream",
     "text": [
      "[1.9, 2.3, 0.1]\n",
      "[1.8999999999999999, 2.2999999999999998, 0.10000000000000002]\n",
      "[[-0.25872979  0.5950721   0.70566091]\n",
      " [ 0.96307666  0.11985161  0.24107872]\n",
      " [ 0.0744463   0.74197979 -0.66627602]]\n",
      "[[-0.25872979  0.5950721   0.70566091]\n",
      " [ 0.96307666  0.11985161  0.24107872]\n",
      " [ 0.0744463   0.74197979 -0.66627602]]\n",
      "beta rotates unit z to:\n",
      "[[ 0.        ]\n",
      " [-0.09983342]\n",
      " [ 0.99500417]]\n",
      "alpha rotates unit z to:\n",
      "[[ 0.]\n",
      " [ 0.]\n",
      " [ 1.]]\n"
     ]
    }
   ],
   "source": [
    "def matrix_to_euler(Re):\n",
    "    A31 = Re[2,0]\n",
    "    A32 = Re[2,1]\n",
    "    A33 = Re[2,2]\n",
    "    A13 = Re[0,2]\n",
    "    A23 = Re[1,2]\n",
    "    beta = np.arccos(A33)\n",
    "    gamma = np.arctan2(A31,A32)\n",
    "    alpha = np.pi - np.arctan2(A13,A23)\n",
    "    omega = [alpha,beta,gamma]\n",
    "    return omega\n",
    "\n",
    "omega = [1.9, 2.3, 0.1]\n",
    "Re = euler_to_matrix(omega)\n",
    "omeganew = matrix_to_euler(Re)\n",
    "Renew = euler_to_matrix(omeganew)\n",
    "print omega\n",
    "print omeganew\n",
    "print Re\n",
    "print Renew\n",
    "\n",
    "# Checking that we understand these rotations\n",
    "unitx = matrix([1,0,0]).T\n",
    "unity = matrix([0,1,0]).T\n",
    "unitz = matrix([0,0,1]).T\n",
    "omega = [0,.1,0]\n",
    "unitz_rotated = euler_to_matrix(omega)*unitz; print \"beta rotates unit z to:\\n\", unitz_rotated\n",
    "omega = [.1,0,0]\n",
    "unitz_rotated = euler_to_matrix(omega)*unitz; print \"alpha rotates unit z to:\\n\", unitz_rotated\n"
   ]
  },
  {
   "cell_type": "code",
   "execution_count": 5,
   "metadata": {
    "collapsed": true
   },
   "outputs": [],
   "source": [
    "def expand_in_R(l1max,l2max,ri,rj,omega1i_bar,omega2j_bar,R):\n",
    "    brackets = 0\n",
    "    for l1 in range(l1max+1):\n",
    "        for l2 in range(l2max+1):\n",
    "            lmin = min(l1,l2)\n",
    "            for m in range (-lmin,lmin+1):\n",
    "                D1i = Rotation.D(l1, m, 0,omega1i_bar[0], omega1i_bar[1], omega1i_bar[2]).doit()\n",
    "                D2j = Rotation.D(l2, m, 0,omega2j_bar[0], omega2j_bar[1], omega2j_bar[2]).doit()\n",
    "                f = f_App_A2(l1,l2,m,ri,rj)\n",
    "                brackets += D1i*conj(D2j)*f/R**(l1+l2)\n",
    "    rij = eval(str(R / brackets))\n",
    "    try:\n",
    "        rij = rij.expand(complex=True)\n",
    "    except:\n",
    "        pass\n",
    "    rij = eval(str(rij))\n",
    "    return rij, brackets"
   ]
  },
  {
   "cell_type": "code",
   "execution_count": 6,
   "metadata": {
    "collapsed": true
   },
   "outputs": [],
   "source": [
    "def expand_in_omega_R(l1max,l2max,ri,rj,omega1i_bar,omega2j_bar,omega1,omega2,R):\n",
    "    brackets = 0\n",
    "    for l1 in range(l1max+1):\n",
    "        for l2 in range(l2max+1):\n",
    "            lmin = min(l1,l2)\n",
    "            for m in range (-lmin,lmin+1):\n",
    "                D1i = 0\n",
    "                for mp in range(-l1,l1+1):\n",
    "                    temp1 = Rotation.D(l1, m, mp, omega1[0], omega1[1], omega1[2]).doit()\n",
    "                    temp2 = Rotation.D(l1, mp, 0, omega1i_bar[0], omega1i_bar[1], omega1i_bar[2]).doit()\n",
    "                    D1i += temp1*temp2\n",
    "                D2j = 0\n",
    "                for mp in range(-l2,l2+1):\n",
    "                    temp1 = Rotation.D(l2, m, mp, omega2[0], omega2[1], omega2[2]).doit()\n",
    "                    temp2 = Rotation.D(l2, mp, 0, omega2j_bar[0], omega2j_bar[1], omega2j_bar[2]).doit()\n",
    "                    D2j += temp1*temp2\n",
    "                f = f_App_A2(l1,l2,m,ri,rj)\n",
    "                brackets += D1i*conj(D2j)*f/R**(l1+l2)\n",
    "    rij = eval(str(R / brackets))\n",
    "    try:\n",
    "        rij = rij.expand(complex=True)\n",
    "        brackets = brackets.expand(complex=True)\n",
    "    except:\n",
    "        pass\n",
    "    return rij, brackets"
   ]
  },
  {
   "cell_type": "code",
   "execution_count": 7,
   "metadata": {
    "collapsed": true
   },
   "outputs": [],
   "source": [
    "def expand_in_omega_R_psi(l1max,l2max,ri,rj,omega1i_bar,omega2j_bar,omega1,omega2,R,psi):\n",
    "    brackets = 0\n",
    "    for l1 in range(l1max+1):\n",
    "        for l2 in range(l2max+1):\n",
    "            lmin = min(l1,l2)\n",
    "            for m in range (-lmin,lmin+1):\n",
    "                D1i = 0\n",
    "                for mp in range(-l1,l1+1):\n",
    "                    temp1 = 0\n",
    "                    for mpp in range(-l1,l1+1):\n",
    "                        tempp1 = Rotation.D(l1, m, mpp,  0,psi,0).doit()\n",
    "                        tempp2 = Rotation.D(l1, mpp, mp, omega1[0], omega1[1], omega1[2]).doit()\n",
    "                        temp1 += tempp1*tempp2\n",
    "                    temp2 = Rotation.D(l1, mp, 0, omega1i_bar[0], omega1i_bar[1], omega1i_bar[2]).doit()\n",
    "                    D1i += temp1*temp2\n",
    "                D2j = 0\n",
    "                for mp in range(-l2,l2+1):\n",
    "                    temp1 = 0\n",
    "                    for mpp in range(-l2,l2+1):\n",
    "                        tempp1 = Rotation.D(l2, m, mpp,  0,psi,0).doit()\n",
    "                        tempp2 = Rotation.D(l2, mpp, mp, omega2[0], omega2[1], omega2[2]).doit()\n",
    "                        temp1 += tempp1*tempp2\n",
    "                    temp2 = Rotation.D(l2, mp, 0, omega2j_bar[0], omega2j_bar[1], omega2j_bar[2]).doit()\n",
    "                    D2j += temp1*temp2\n",
    "                f = f_App_A2(l1,l2,m,ri,rj)\n",
    "                brackets += D1i*conj(D2j)*f/R**(l1+l2)\n",
    "    rij = eval(str(R / brackets))\n",
    "    try:\n",
    "        rij = rij.expand(complex=True)\n",
    "        brackets = brackets.expand(complex=True)\n",
    "    except:\n",
    "        pass\n",
    "    return rij, brackets"
   ]
  },
  {
   "cell_type": "code",
   "execution_count": 8,
   "metadata": {
    "collapsed": false
   },
   "outputs": [],
   "source": [
    "def evaluateRomegas(rij_sym, \\\n",
    "               R_sym, R_num, \\\n",
    "               omega1_sym, omega1_num, \\\n",
    "               omega2_sym, omega2_num \\\n",
    "             ):\n",
    "    # Evaluate for numerical values of R, psi, etc\n",
    "    alpha1_sym =  omega1_sym[0]; alpha1_num =  omega1_num[0]\n",
    "    beta1_sym  =  omega1_sym[1]; beta1_num  =  omega1_num[1]\n",
    "    gamma1_sym =  omega1_sym[2]; gamma1_num =  omega1_num[2]\n",
    "    alpha2_sym =  omega2_sym[0]; alpha2_num =  omega2_num[0]\n",
    "    beta2_sym  =  omega2_sym[1]; beta2_num  =  omega2_num[1]\n",
    "    gamma2_sym =  omega2_sym[2]; gamma2_num =  omega2_num[2] \n",
    "    rij = rij_sym.subs([ \\\n",
    "                  (R_sym,R_num),\\\n",
    "                  (alpha1_sym,alpha1_num),\\\n",
    "                  (beta1_sym,beta1_num),\\\n",
    "                  (gamma1_sym,gamma1_num),\\\n",
    "                  (alpha2_sym,alpha2_num),\\\n",
    "                  (beta2_sym,beta2_num),\\\n",
    "                  (gamma2_sym,gamma1_num),\\\n",
    "               ]\n",
    "               )\n",
    "    rij = eval(str(rij))\n",
    "    return rij\n",
    "\n",
    "def evaluatepsi(rij_sym, \\\n",
    "               psi_sym, psi_num):\n",
    "\n",
    "    rij = rij_sym.subs(psi_sym,psi_num)\n",
    "    return rij"
   ]
  },
  {
   "cell_type": "code",
   "execution_count": 9,
   "metadata": {
    "collapsed": false
   },
   "outputs": [],
   "source": [
    "def showbrackets(brackets_sym):\n",
    "\n",
    "    # This is to look at the expansion of the term in brackets\n",
    "    alpha1, beta1, gamma1 = symbols('alpha1 beta1 gamma1', real=True)\n",
    "    alpha2, beta2, gamma2 = symbols('alpha2 beta2 gamma2', real=True)\n",
    "    R, psi = symbols('R psi', real=True)\n",
    "\n",
    "    # These substitutions are just for aesthetics\n",
    "    brackets_sym = brackets_sym.subs([ \\\n",
    "                  (R_sym,R),\\\n",
    "                  (alpha1_sym,alpha1),\\\n",
    "                  (beta1_sym,beta1),\\\n",
    "                  (gamma1_sym,gamma1),\\\n",
    "                  (alpha2_sym,alpha2),\\\n",
    "                  (beta2_sym,beta2),\\\n",
    "                  (gamma2_sym,gamma1),\\\n",
    "                 ])\n",
    "\n",
    "    try:\n",
    "        brackets_sym = brackets_sym.subs(psi_sym,psi)\n",
    "    except:\n",
    "        pass\n",
    "\n",
    "    # Print the term in brackets\n",
    "    #sympy.pretty_print(brackets_sym)\n",
    "\n",
    "    # Print terms according to powers of 1/R\n",
    "    x = symbols('x', real=True)\n",
    "    test = brackets_sym.subs(R, 1/x)\n",
    "    for i in range(4):\n",
    "        term = test.diff(x,i).subs(x,0)/math.factorial(i)\n",
    "        print \"Coefficient of 1/R^\", i\n",
    "        #sympy.pretty_print(term)\n",
    "        print(term)\n",
    "        print \"\\n\""
   ]
  },
  {
   "cell_type": "code",
   "execution_count": 10,
   "metadata": {
    "collapsed": true
   },
   "outputs": [],
   "source": [
    "# Specify the order of the expansion\n",
    "l1max = 1\n",
    "l2max = 1\n",
    "ri = 1\n",
    "rj = 1\n",
    "\n",
    "# This is the distance between frames\n",
    "R_num = 10"
   ]
  },
  {
   "cell_type": "code",
   "execution_count": 11,
   "metadata": {
    "collapsed": false
   },
   "outputs": [
    {
     "name": "stdout",
     "output_type": "stream",
     "text": [
      "[0.1, 1.5, 0]\n",
      "[0.1, 0.5, 0]\n",
      "10.8359249119\n"
     ]
    }
   ],
   "source": [
    "# This is the original formulation\n",
    "\n",
    "# Specify the atomic configurations\n",
    "omega1i_bar = [0.1,1.5,0]  \n",
    "omega2j_bar = [0.1,0.5,0]\n",
    "\n",
    "# Expand\n",
    "print omega1i_bar\n",
    "print omega2j_bar\n",
    "rij, brackets = expand_in_R(l1max,l2max,ri,rj,omega1i_bar,omega2j_bar,R_num)\n",
    "print rij"
   ]
  },
  {
   "cell_type": "code",
   "execution_count": 12,
   "metadata": {
    "collapsed": false
   },
   "outputs": [
    {
     "name": "stdout",
     "output_type": "stream",
     "text": [
      "[0.10000000000000009, 1.5, 0.0]\n",
      "[0.10000000000000009, 0.49999999999999989, 0.0]\n",
      "10.8359249119\n"
     ]
    }
   ],
   "source": [
    "# Here, start with atoms along the z-axis, and rotate the frames to match the above\n",
    "# This should equal the cell above\n",
    "\n",
    "# Specify the atomic configurations\n",
    "omega1i_bar = [0,0,0]\n",
    "omega2j_bar = [0,0,0]\n",
    "\n",
    "# Specify a frame rotation for each atom\n",
    "omega1i_num = [0.1,1.5,0]\n",
    "omega2j_num = [0.1,0.5,0]\n",
    "\n",
    "# Translate to rotation matrices, combine them, and get back the euler angles\n",
    "R_omega1i_bar = euler_to_matrix(omega1i_bar)\n",
    "R_omega2j_bar = euler_to_matrix(omega2j_bar)\n",
    "R_omega1i = euler_to_matrix(omega1i_num)\n",
    "R_omega2j = euler_to_matrix(omega2j_num)\n",
    "R_omega1i_omega1i_bar = R_omega1i*R_omega1i_bar\n",
    "R_omega2j_omega2j_bar = R_omega2j*R_omega2j_bar\n",
    "omega1i_bar_p = matrix_to_euler(R_omega1i_omega1i_bar)\n",
    "omega2j_bar_p = matrix_to_euler(R_omega2j_omega2j_bar)\n",
    "\n",
    "# Expand using these new euler angles (which should be the same as the previous ones)\n",
    "print omega1i_bar_p\n",
    "print omega2j_bar_p\n",
    "rij, brackets = expand_in_R(l1max,l2max,ri,rj,omega1i_bar_p,omega2j_bar_p,R_num)\n",
    "print rij"
   ]
  },
  {
   "cell_type": "code",
   "execution_count": 13,
   "metadata": {
    "collapsed": false
   },
   "outputs": [
    {
     "name": "stdout",
     "output_type": "stream",
     "text": [
      "10.8359249119\n"
     ]
    }
   ],
   "source": [
    "# Now try an omega-R expansion of the Wigner D-matrices*omega-bar instead\n",
    "# This should equal the cell above\n",
    "rij, brackets = expand_in_omega_R(l1max,l2max,ri,rj,omega1i_bar,omega2j_bar,omega1i_num,omega2j_num,R_num)\n",
    "print rij"
   ]
  },
  {
   "cell_type": "code",
   "execution_count": 14,
   "metadata": {
    "collapsed": false
   },
   "outputs": [
    {
     "name": "stdout",
     "output_type": "stream",
     "text": [
      "10.8359249119\n"
     ]
    }
   ],
   "source": [
    "# Now try an R-expansion of the Wigner D-matrices alone\n",
    "# This should equal the cell above\n",
    "rij, brackets = expand_in_R(l1max,l2max,ri,rj,omega1i_num,omega2j_num,R_num)\n",
    "print rij"
   ]
  },
  {
   "cell_type": "code",
   "execution_count": 15,
   "metadata": {
    "collapsed": false
   },
   "outputs": [
    {
     "name": "stdout",
     "output_type": "stream",
     "text": [
      "10.8009599973449 - 7.58902946111845e-18*I\n"
     ]
    }
   ],
   "source": [
    "# Next we'll try rotating each with a common omega1, omega2\n",
    "# This will be different from the above because each molecule is rotated\n",
    "omega1_num = [.1,.2,.3]\n",
    "omega2_num = [.2,.3,.4]\n",
    "rij, brackets = expand_in_omega_R(l1max,l2max,ri,rj,omega1i_num,omega2j_num,omega1_num,omega2_num,R_num)\n",
    "print rij"
   ]
  },
  {
   "cell_type": "code",
   "execution_count": 16,
   "metadata": {
    "collapsed": false
   },
   "outputs": [],
   "source": [
    "# Now try an expansion of the Wigner D-matrices, but with symbolic variables\n",
    "\n",
    "# Create the symbolic values\n",
    "R_sym = symbols('R_sym', real=True)\n",
    "alpha1_sym, beta1_sym, gamma1_sym = symbols('alpha1_sym beta1_sym gamma1_sym', real=True)\n",
    "alpha2_sym, beta2_sym, gamma2_sym = symbols('alpha2_sym beta2_sym gamma2_sym', real=True)\n",
    "omega1_sym = [alpha1_sym, beta1_sym, gamma1_sym];\n",
    "omega2_sym = [alpha2_sym, beta2_sym, gamma2_sym]; \n",
    "\n",
    "# Expand\n",
    "rij_sym, brackets_sym = expand_in_omega_R(l1max,l2max,ri,rj,omega1i_num,omega2j_num,omega1_sym,omega2_sym,R_sym)\n",
    "#print rij_sym"
   ]
  },
  {
   "cell_type": "code",
   "execution_count": 17,
   "metadata": {
    "collapsed": false
   },
   "outputs": [
    {
     "name": "stdout",
     "output_type": "stream",
     "text": [
      "10.8027302084\n"
     ]
    }
   ],
   "source": [
    "# To check, evaluate the symbolic variables at numerical values\n",
    "# This should equal the cell above (but there's roundoff)\n",
    "rij_eval = evaluateRomegas(rij_sym, \\\n",
    "               R_sym, R_num, \\\n",
    "               omega1_sym, omega1_num, \\\n",
    "               omega2_sym, omega2_num \\\n",
    "             )\n",
    "print rij_eval"
   ]
  },
  {
   "cell_type": "code",
   "execution_count": 18,
   "metadata": {
    "collapsed": false
   },
   "outputs": [
    {
     "name": "stdout",
     "output_type": "stream",
     "text": [
      "Coefficient of 1/R^ 0\n",
      "1.00000000000000\n",
      "\n",
      "\n",
      "Coefficient of 1/R^ 1\n",
      "0.0995833326007648*sin(beta1)*sin(gamma1) - 0.992511666514983*sin(beta1)*cos(gamma1) - 0.0478626895466034*sin(beta2)*sin(gamma1) + 0.477030407851843*sin(beta2)*cos(gamma1) + 0.0707372016677029*cos(beta1) - 0.877582561890373*cos(beta2)\n",
      "\n",
      "\n",
      "Coefficient of 1/R^ 2\n",
      "0.0620777346604987*sin(alpha1)*sin(alpha2)*sin(beta1)*sin(beta2) - 0.00338567272281674*sin(alpha1)*sin(alpha2)*sin(beta1)*sin(gamma1)*cos(beta2) + 0.0337437961618424*sin(alpha1)*sin(alpha2)*sin(beta1)*cos(beta2)*cos(gamma1) - 0.0873925961453603*sin(alpha1)*sin(alpha2)*sin(beta2)*sin(gamma1)*cos(beta1) + 0.871010931006302*sin(alpha1)*sin(alpha2)*sin(beta2)*cos(beta1)*cos(gamma1) + 0.00476632613228656*sin(alpha1)*sin(alpha2)*sin(gamma1)**2*cos(beta1)*cos(beta2) + 0.473458245075354*sin(alpha1)*sin(alpha2)*sin(gamma1)**2 - 0.0950085555315772*sin(alpha1)*sin(alpha2)*sin(gamma1)*cos(beta1)*cos(beta2)*cos(gamma1) - 8.67361737988404e-19*I*sin(alpha1)*sin(alpha2)*sin(gamma1)*cos(beta1)*cos(beta2)*cos(gamma1) + 0.0950085555315772*sin(alpha1)*sin(alpha2)*sin(gamma1)*cos(gamma1) + 0.473458245075354*sin(alpha1)*sin(alpha2)*cos(beta1)*cos(beta2)*cos(gamma1)**2 + 0.00476632613228656*sin(alpha1)*sin(alpha2)*cos(gamma1)**2 + 0.0337437961618424*sin(alpha1)*sin(beta1)*sin(gamma1)*cos(alpha2) + 0.00338567272281674*sin(alpha1)*sin(beta1)*cos(alpha2)*cos(gamma1) - 0.871010931006302*sin(alpha1)*sin(beta2)*sin(gamma1)*cos(alpha2) - 0.0873925961453603*sin(alpha1)*sin(beta2)*cos(alpha2)*cos(gamma1) - 0.0475042777657886*sin(alpha1)*sin(gamma1)**2*cos(alpha2)*cos(beta1) + 0.0475042777657886*sin(alpha1)*sin(gamma1)**2*cos(alpha2)*cos(beta2) + 0.468691918943068*sin(alpha1)*sin(gamma1)*cos(alpha2)*cos(beta1)*cos(gamma1) - 0.468691918943068*sin(alpha1)*sin(gamma1)*cos(alpha2)*cos(beta2)*cos(gamma1) + 0.0475042777657886*sin(alpha1)*cos(alpha2)*cos(beta1)*cos(gamma1)**2 + 8.67361737988404e-19*I*sin(alpha1)*cos(alpha2)*cos(beta1)*cos(gamma1)**2 - 0.0475042777657886*sin(alpha1)*cos(alpha2)*cos(beta2)*cos(gamma1)**2 - 0.0337437961618424*sin(alpha2)*sin(beta1)*sin(gamma1)*cos(alpha1) - 0.00338567272281674*sin(alpha2)*sin(beta1)*cos(alpha1)*cos(gamma1) + 0.871010931006302*sin(alpha2)*sin(beta2)*sin(gamma1)*cos(alpha1) + 0.0873925961453603*sin(alpha2)*sin(beta2)*cos(alpha1)*cos(gamma1) + 0.0475042777657886*sin(alpha2)*sin(gamma1)**2*cos(alpha1)*cos(beta1) - 0.0475042777657886*sin(alpha2)*sin(gamma1)**2*cos(alpha1)*cos(beta2) - 8.67361737988404e-19*I*sin(alpha2)*sin(gamma1)**2*cos(alpha1)*cos(beta2) - 0.468691918943068*sin(alpha2)*sin(gamma1)*cos(alpha1)*cos(beta1)*cos(gamma1) + 0.468691918943068*sin(alpha2)*sin(gamma1)*cos(alpha1)*cos(beta2)*cos(gamma1) - 0.0475042777657886*sin(alpha2)*cos(alpha1)*cos(beta1)*cos(gamma1)**2 + 0.0475042777657886*sin(alpha2)*cos(alpha1)*cos(beta2)*cos(gamma1)**2 - 0.00953265226457311*sin(beta1)*sin(beta2)*sin(gamma1)**2 + 0.190017111063154*sin(beta1)*sin(beta2)*sin(gamma1)*cos(gamma1) + 0.0620777346604987*sin(beta1)*sin(beta2)*cos(alpha1)*cos(alpha2) - 0.946916490150709*sin(beta1)*sin(beta2)*cos(gamma1)**2 - 0.00338567272281674*sin(beta1)*sin(gamma1)*cos(alpha1)*cos(alpha2)*cos(beta2) - 0.174785192290721*sin(beta1)*sin(gamma1)*cos(beta2) + 0.0337437961618424*sin(beta1)*cos(alpha1)*cos(alpha2)*cos(beta2)*cos(gamma1) + 1.7420218620126*sin(beta1)*cos(beta2)*cos(gamma1) - 0.0873925961453603*sin(beta2)*sin(gamma1)*cos(alpha1)*cos(alpha2)*cos(beta1) - 0.00677134544563348*sin(beta2)*sin(gamma1)*cos(beta1) + 0.871010931006302*sin(beta2)*cos(alpha1)*cos(alpha2)*cos(beta1)*cos(gamma1) + 0.0674875923236848*sin(beta2)*cos(beta1)*cos(gamma1) + 0.00476632613228656*sin(gamma1)**2*cos(alpha1)*cos(alpha2)*cos(beta1)*cos(beta2) + 0.473458245075354*sin(gamma1)**2*cos(alpha1)*cos(alpha2) - 0.0950085555315772*sin(gamma1)*cos(alpha1)*cos(alpha2)*cos(beta1)*cos(beta2)*cos(gamma1) + 0.0950085555315772*sin(gamma1)*cos(alpha1)*cos(alpha2)*cos(gamma1) + 8.67361737988404e-19*I*sin(gamma1)*cos(alpha1)*cos(alpha2)*cos(gamma1) + 0.473458245075354*cos(alpha1)*cos(alpha2)*cos(beta1)*cos(beta2)*cos(gamma1)**2 + 0.00476632613228656*cos(alpha1)*cos(alpha2)*cos(gamma1)**2 - 0.124155469320997*cos(beta1)*cos(beta2)\n",
      "\n",
      "\n",
      "Coefficient of 1/R^ 3\n",
      "0\n",
      "\n",
      "\n"
     ]
    }
   ],
   "source": [
    "# Also good to check the brackets\n",
    "showbrackets(brackets_sym)"
   ]
  },
  {
   "cell_type": "code",
   "execution_count": 19,
   "metadata": {
    "collapsed": false
   },
   "outputs": [
    {
     "name": "stdout",
     "output_type": "stream",
     "text": [
      "10.8009599973449 - 7.58902946111845e-18*I\n"
     ]
    }
   ],
   "source": [
    "# Now we try an expansion of the Wigner D-matrices, with angle psi applied to both\n",
    "# This result should be the same as the cell above since psi=0\n",
    "\n",
    "# This is the angle \n",
    "psi_num = 0\n",
    "\n",
    "# Expand \n",
    "rij, brackets = \\\n",
    "    expand_in_omega_R_psi(l1max,l2max,ri,rj,omega1i_num,omega2j_num,omega1_num,omega2_num,R_num,psi_num)\n",
    "print rij"
   ]
  },
  {
   "cell_type": "code",
   "execution_count": 20,
   "metadata": {
    "collapsed": false
   },
   "outputs": [],
   "source": [
    "# Now we try the same with symbolic variables\n",
    "\n",
    "# Create the symbolic variable\n",
    "psi_sym = symbols('psi_sym', real=True)\n",
    "\n",
    "# Expand\n",
    "rij_sym, brackets_sym = \\\n",
    "    expand_in_omega_R_psi(l1max,l2max,ri,rj,omega1i_num,omega2j_num,omega1_sym,omega2_sym,R_sym,psi_sym)\n",
    "#print rij_sym"
   ]
  },
  {
   "cell_type": "code",
   "execution_count": 21,
   "metadata": {
    "collapsed": false
   },
   "outputs": [
    {
     "name": "stdout",
     "output_type": "stream",
     "text": [
      "10.8041722823884\n"
     ]
    }
   ],
   "source": [
    "# To check, evaluate the symbolic variables at numerical values \n",
    "# This should equal the cell above (but there's roundoff)\n",
    "rij_eval1 = evaluateRomegas(rij_sym, \\\n",
    "               R_sym, R_num, \\\n",
    "               omega1_sym, omega1_num, \\\n",
    "               omega2_sym, omega2_num \\\n",
    "             )\n",
    "rij_eval2 = evaluatepsi(rij_eval1, psi_sym, psi_num)\n",
    "print rij_eval2"
   ]
  },
  {
   "cell_type": "code",
   "execution_count": 22,
   "metadata": {
    "collapsed": false
   },
   "outputs": [
    {
     "name": "stdout",
     "output_type": "stream",
     "text": [
      "Coefficient of 1/R^ 0\n",
      "1.00000000000000\n",
      "\n",
      "\n",
      "Coefficient of 1/R^ 1\n",
      "0.992511666514983*sin(alpha1)*sin(gamma1)*sin(psi) + 0.0995833326007648*sin(alpha1)*sin(psi)*cos(gamma1) - 0.477030407851843*sin(alpha2)*sin(gamma1)*sin(psi) - 0.0478626895466034*sin(alpha2)*sin(psi)*cos(gamma1) + 0.0995833326007648*sin(beta1)*sin(gamma1)*cos(psi) - 0.0707372016677029*sin(beta1)*sin(psi)*cos(alpha1) - 0.992511666514983*sin(beta1)*cos(gamma1)*cos(psi) - 0.0478626895466034*sin(beta2)*sin(gamma1)*cos(psi) + 0.877582561890373*sin(beta2)*sin(psi)*cos(alpha2) + 0.477030407851843*sin(beta2)*cos(gamma1)*cos(psi) + 0.0995833326007648*sin(gamma1)*sin(psi)*cos(alpha1)*cos(beta1) - 0.0478626895466034*sin(gamma1)*sin(psi)*cos(alpha2)*cos(beta2) - 0.992511666514983*sin(psi)*cos(alpha1)*cos(beta1)*cos(gamma1) + 0.477030407851843*sin(psi)*cos(alpha2)*cos(beta2)*cos(gamma1) + 0.0707372016677029*cos(beta1)*cos(psi) - 0.877582561890373*cos(beta2)*cos(psi)\n",
      "\n",
      "\n",
      "Coefficient of 1/R^ 2\n",
      "0.0620777346604987*sin(alpha1)*sin(alpha2)*sin(beta1)*sin(beta2) - 0.00338567272281674*sin(alpha1)*sin(alpha2)*sin(beta1)*sin(gamma1)*cos(beta2) + 0.0337437961618424*sin(alpha1)*sin(alpha2)*sin(beta1)*cos(beta2)*cos(gamma1) - 0.0873925961453603*sin(alpha1)*sin(alpha2)*sin(beta2)*sin(gamma1)*cos(beta1) + 0.871010931006302*sin(alpha1)*sin(alpha2)*sin(beta2)*cos(beta1)*cos(gamma1) - 0.946916490150709*sin(alpha1)*sin(alpha2)*sin(gamma1)**2*sin(psi)**2 + 0.00476632613228656*sin(alpha1)*sin(alpha2)*sin(gamma1)**2*cos(beta1)*cos(beta2) + 0.473458245075354*sin(alpha1)*sin(alpha2)*sin(gamma1)**2*cos(psi)**2 - 0.190017111063154*sin(alpha1)*sin(alpha2)*sin(gamma1)*sin(psi)**2*cos(gamma1) - 0.0950085555315772*sin(alpha1)*sin(alpha2)*sin(gamma1)*cos(beta1)*cos(beta2)*cos(gamma1) - 8.67361737988404e-19*I*sin(alpha1)*sin(alpha2)*sin(gamma1)*cos(beta1)*cos(beta2)*cos(gamma1) + 0.0950085555315772*sin(alpha1)*sin(alpha2)*sin(gamma1)*cos(gamma1)*cos(psi)**2 - 0.00953265226457311*sin(alpha1)*sin(alpha2)*sin(psi)**2*cos(gamma1)**2 + 0.473458245075354*sin(alpha1)*sin(alpha2)*cos(beta1)*cos(beta2)*cos(gamma1)**2 + 0.00476632613228656*sin(alpha1)*sin(alpha2)*cos(gamma1)**2*cos(psi)**2 + 0.0337437961618424*sin(alpha1)*sin(beta1)*sin(gamma1)*cos(alpha2) + 0.00338567272281674*sin(alpha1)*sin(beta1)*cos(alpha2)*cos(gamma1) - 0.142512833297366*sin(alpha1)*sin(beta2)*sin(gamma1)**2*sin(psi)*cos(psi) + 1.7420218620126*sin(alpha1)*sin(beta2)*sin(gamma1)*sin(psi)**2*cos(alpha2) + 1.4060757568292*sin(alpha1)*sin(beta2)*sin(gamma1)*sin(psi)*cos(gamma1)*cos(psi) - 0.871010931006302*sin(alpha1)*sin(beta2)*sin(gamma1)*cos(alpha2)*cos(psi)**2 + 0.174785192290721*sin(alpha1)*sin(beta2)*sin(psi)**2*cos(alpha2)*cos(gamma1) + 0.142512833297366*sin(alpha1)*sin(beta2)*sin(psi)*cos(gamma1)**2*cos(psi) - 0.0873925961453603*sin(alpha1)*sin(beta2)*cos(alpha2)*cos(gamma1)*cos(psi)**2 - 0.0950085555315772*sin(alpha1)*sin(gamma1)**2*sin(psi)**2*cos(alpha2)*cos(beta2) - 0.0475042777657886*sin(alpha1)*sin(gamma1)**2*cos(alpha2)*cos(beta1) + 0.0475042777657886*sin(alpha1)*sin(gamma1)**2*cos(alpha2)*cos(beta2)*cos(psi)**2 + 0.937383837886136*sin(alpha1)*sin(gamma1)*sin(psi)**2*cos(alpha2)*cos(beta2)*cos(gamma1) - 2.61303279301891*sin(alpha1)*sin(gamma1)*sin(psi)*cos(beta2)*cos(psi) + 0.468691918943068*sin(alpha1)*sin(gamma1)*cos(alpha2)*cos(beta1)*cos(gamma1) - 0.468691918943068*sin(alpha1)*sin(gamma1)*cos(alpha2)*cos(beta2)*cos(gamma1)*cos(psi)**2 + 0.0950085555315772*sin(alpha1)*sin(psi)**2*cos(alpha2)*cos(beta2)*cos(gamma1)**2 - 0.262177788436081*sin(alpha1)*sin(psi)*cos(beta2)*cos(gamma1)*cos(psi) + 0.0475042777657886*sin(alpha1)*cos(alpha2)*cos(beta1)*cos(gamma1)**2 + 8.67361737988404e-19*I*sin(alpha1)*cos(alpha2)*cos(beta1)*cos(gamma1)**2 - 0.0475042777657886*sin(alpha1)*cos(alpha2)*cos(beta2)*cos(gamma1)**2*cos(psi)**2 - 0.142512833297366*sin(alpha2)*sin(beta1)*sin(gamma1)**2*sin(psi)*cos(psi) + 0.0674875923236848*sin(alpha2)*sin(beta1)*sin(gamma1)*sin(psi)**2*cos(alpha1) + 1.4060757568292*sin(alpha2)*sin(beta1)*sin(gamma1)*sin(psi)*cos(gamma1)*cos(psi) - 0.0337437961618424*sin(alpha2)*sin(beta1)*sin(gamma1)*cos(alpha1)*cos(psi)**2 + 0.00677134544563348*sin(alpha2)*sin(beta1)*sin(psi)**2*cos(alpha1)*cos(gamma1) + 0.142512833297366*sin(alpha2)*sin(beta1)*sin(psi)*cos(gamma1)**2*cos(psi) - 0.00338567272281674*sin(alpha2)*sin(beta1)*cos(alpha1)*cos(gamma1)*cos(psi)**2 + 0.871010931006302*sin(alpha2)*sin(beta2)*sin(gamma1)*cos(alpha1) + 0.0873925961453603*sin(alpha2)*sin(beta2)*cos(alpha1)*cos(gamma1) - 0.0950085555315772*sin(alpha2)*sin(gamma1)**2*sin(psi)**2*cos(alpha1)*cos(beta1) + 0.0475042777657886*sin(alpha2)*sin(gamma1)**2*cos(alpha1)*cos(beta1)*cos(psi)**2 - 0.0475042777657886*sin(alpha2)*sin(gamma1)**2*cos(alpha1)*cos(beta2) - 8.67361737988404e-19*I*sin(alpha2)*sin(gamma1)**2*cos(alpha1)*cos(beta2) + 0.937383837886136*sin(alpha2)*sin(gamma1)*sin(psi)**2*cos(alpha1)*cos(beta1)*cos(gamma1) - 0.101231388485527*sin(alpha2)*sin(gamma1)*sin(psi)*cos(beta1)*cos(psi) - 0.468691918943068*sin(alpha2)*sin(gamma1)*cos(alpha1)*cos(beta1)*cos(gamma1)*cos(psi)**2 + 0.468691918943068*sin(alpha2)*sin(gamma1)*cos(alpha1)*cos(beta2)*cos(gamma1) + 0.0950085555315772*sin(alpha2)*sin(psi)**2*cos(alpha1)*cos(beta1)*cos(gamma1)**2 - 0.0101570181684502*sin(alpha2)*sin(psi)*cos(beta1)*cos(gamma1)*cos(psi) - 0.0475042777657886*sin(alpha2)*cos(alpha1)*cos(beta1)*cos(gamma1)**2*cos(psi)**2 + 0.0475042777657886*sin(alpha2)*cos(alpha1)*cos(beta2)*cos(gamma1)**2 + 0.00476632613228656*sin(beta1)*sin(beta2)*sin(gamma1)**2*sin(psi)**2 - 0.00953265226457311*sin(beta1)*sin(beta2)*sin(gamma1)**2*cos(psi)**2 - 0.0950085555315772*sin(beta1)*sin(beta2)*sin(gamma1)*sin(psi)**2*cos(gamma1) + 0.0101570181684502*sin(beta1)*sin(beta2)*sin(gamma1)*sin(psi)*cos(alpha1)*cos(psi) + 0.262177788436081*sin(beta1)*sin(beta2)*sin(gamma1)*sin(psi)*cos(alpha2)*cos(psi) + 0.190017111063154*sin(beta1)*sin(beta2)*sin(gamma1)*cos(gamma1)*cos(psi)**2 - 0.124155469320997*sin(beta1)*sin(beta2)*sin(psi)**2*cos(alpha1)*cos(alpha2) + 0.473458245075354*sin(beta1)*sin(beta2)*sin(psi)**2*cos(gamma1)**2 - 0.101231388485527*sin(beta1)*sin(beta2)*sin(psi)*cos(alpha1)*cos(gamma1)*cos(psi) - 2.61303279301891*sin(beta1)*sin(beta2)*sin(psi)*cos(alpha2)*cos(gamma1)*cos(psi) + 0.0620777346604987*sin(beta1)*sin(beta2)*cos(alpha1)*cos(alpha2)*cos(psi)**2 - 0.946916490150709*sin(beta1)*sin(beta2)*cos(gamma1)**2*cos(psi)**2 - 0.0142989783968597*sin(beta1)*sin(gamma1)**2*sin(psi)*cos(alpha2)*cos(beta2)*cos(psi) + 0.00677134544563348*sin(beta1)*sin(gamma1)*sin(psi)**2*cos(alpha1)*cos(alpha2)*cos(beta2) + 0.0873925961453603*sin(beta1)*sin(gamma1)*sin(psi)**2*cos(beta2) + 0.285025666594731*sin(beta1)*sin(gamma1)*sin(psi)*cos(alpha2)*cos(beta2)*cos(gamma1)*cos(psi) - 0.00338567272281674*sin(beta1)*sin(gamma1)*cos(alpha1)*cos(alpha2)*cos(beta2)*cos(psi)**2 - 0.174785192290721*sin(beta1)*sin(gamma1)*cos(beta2)*cos(psi)**2 - 0.0674875923236848*sin(beta1)*sin(psi)**2*cos(alpha1)*cos(alpha2)*cos(beta2)*cos(gamma1) - 0.871010931006302*sin(beta1)*sin(psi)**2*cos(beta2)*cos(gamma1) + 0.186233203981496*sin(beta1)*sin(psi)*cos(alpha1)*cos(beta2)*cos(psi) - 1.42037473522606*sin(beta1)*sin(psi)*cos(alpha2)*cos(beta2)*cos(gamma1)**2*cos(psi) + 0.0337437961618424*sin(beta1)*cos(alpha1)*cos(alpha2)*cos(beta2)*cos(gamma1)*cos(psi)**2 + 1.7420218620126*sin(beta1)*cos(beta2)*cos(gamma1)*cos(psi)**2 - 0.0142989783968597*sin(beta2)*sin(gamma1)**2*sin(psi)*cos(alpha1)*cos(beta1)*cos(psi) + 0.174785192290721*sin(beta2)*sin(gamma1)*sin(psi)**2*cos(alpha1)*cos(alpha2)*cos(beta1) + 0.00338567272281674*sin(beta2)*sin(gamma1)*sin(psi)**2*cos(beta1) + 0.285025666594731*sin(beta2)*sin(gamma1)*sin(psi)*cos(alpha1)*cos(beta1)*cos(gamma1)*cos(psi) - 0.0873925961453603*sin(beta2)*sin(gamma1)*cos(alpha1)*cos(alpha2)*cos(beta1)*cos(psi)**2 - 0.00677134544563348*sin(beta2)*sin(gamma1)*cos(beta1)*cos(psi)**2 - 1.7420218620126*sin(beta2)*sin(psi)**2*cos(alpha1)*cos(alpha2)*cos(beta1)*cos(gamma1) - 0.0337437961618424*sin(beta2)*sin(psi)**2*cos(beta1)*cos(gamma1) - 1.42037473522606*sin(beta2)*sin(psi)*cos(alpha1)*cos(beta1)*cos(gamma1)**2*cos(psi) + 0.186233203981496*sin(beta2)*sin(psi)*cos(alpha2)*cos(beta1)*cos(psi) + 0.871010931006302*sin(beta2)*cos(alpha1)*cos(alpha2)*cos(beta1)*cos(gamma1)*cos(psi)**2 + 0.0674875923236848*sin(beta2)*cos(beta1)*cos(gamma1)*cos(psi)**2 - 0.00953265226457311*sin(gamma1)**2*sin(psi)**2*cos(alpha1)*cos(alpha2)*cos(beta1)*cos(beta2) + 0.00476632613228656*sin(gamma1)**2*cos(alpha1)*cos(alpha2)*cos(beta1)*cos(beta2)*cos(psi)**2 + 0.473458245075354*sin(gamma1)**2*cos(alpha1)*cos(alpha2) + 0.190017111063154*sin(gamma1)*sin(psi)**2*cos(alpha1)*cos(alpha2)*cos(beta1)*cos(beta2)*cos(gamma1) - 0.262177788436081*sin(gamma1)*sin(psi)*cos(alpha1)*cos(beta1)*cos(beta2)*cos(psi) - 0.0101570181684502*sin(gamma1)*sin(psi)*cos(alpha2)*cos(beta1)*cos(beta2)*cos(psi) - 0.0950085555315772*sin(gamma1)*cos(alpha1)*cos(alpha2)*cos(beta1)*cos(beta2)*cos(gamma1)*cos(psi)**2 + 0.0950085555315772*sin(gamma1)*cos(alpha1)*cos(alpha2)*cos(gamma1) + 8.67361737988404e-19*I*sin(gamma1)*cos(alpha1)*cos(alpha2)*cos(gamma1) - 0.946916490150709*sin(psi)**2*cos(alpha1)*cos(alpha2)*cos(beta1)*cos(beta2)*cos(gamma1)**2 + 0.0620777346604987*sin(psi)**2*cos(beta1)*cos(beta2) + 2.61303279301891*sin(psi)*cos(alpha1)*cos(beta1)*cos(beta2)*cos(gamma1)*cos(psi) + 0.101231388485527*sin(psi)*cos(alpha2)*cos(beta1)*cos(beta2)*cos(gamma1)*cos(psi) + 0.473458245075354*cos(alpha1)*cos(alpha2)*cos(beta1)*cos(beta2)*cos(gamma1)**2*cos(psi)**2 + 0.00476632613228656*cos(alpha1)*cos(alpha2)*cos(gamma1)**2 - 0.124155469320997*cos(beta1)*cos(beta2)*cos(psi)**2\n",
      "\n",
      "\n",
      "Coefficient of 1/R^ 3\n",
      "0\n",
      "\n",
      "\n"
     ]
    }
   ],
   "source": [
    "# Also good to check the brackets\n",
    "showbrackets(brackets_sym)"
   ]
  },
  {
   "cell_type": "code",
   "execution_count": 23,
   "metadata": {
    "collapsed": false
   },
   "outputs": [
    {
     "name": "stdout",
     "output_type": "stream",
     "text": [
      "10.8146416444654 + 1.01443570469343e-17*I\n"
     ]
    }
   ],
   "source": [
    "# Now we try an expansion of the Wigner D-matrices, with angle psi applied to both\n",
    "# This result will be different from the cell above (because psi != 0)\n",
    "\n",
    "# This is the angle \n",
    "psi_num = .2\n",
    "\n",
    "# Expand \n",
    "rij, brackets = \\\n",
    "    expand_in_omega_R_psi(l1max,l2max,ri,rj,omega1i_num,omega2j_num,omega1_num,omega2_num,R_num,psi_num)\n",
    "print rij"
   ]
  },
  {
   "cell_type": "code",
   "execution_count": 24,
   "metadata": {
    "collapsed": false
   },
   "outputs": [
    {
     "name": "stdout",
     "output_type": "stream",
     "text": [
      "10.8120014045347\n"
     ]
    }
   ],
   "source": [
    "# To check, evaluate the symbolic variables at numerical values \n",
    "# This should equal the cell above with psi != 0 (but there's roundoff)\n",
    "rij_eval1 = evaluateRomegas(rij_sym, \\\n",
    "               R_sym, R_num, \\\n",
    "               omega1_sym, omega1_num, \\\n",
    "               omega2_sym, omega2_num \\\n",
    "             )\n",
    "rij_eval2 = evaluatepsi(rij_eval1, psi_sym, psi_num)\n",
    "print rij_eval2"
   ]
  },
  {
   "cell_type": "code",
   "execution_count": 45,
   "metadata": {
    "collapsed": false
   },
   "outputs": [
    {
     "name": "stdout",
     "output_type": "stream",
     "text": [
      "[[ 0.09958333]\n",
      " [-0.99251167]\n",
      " [ 0.0707372 ]]\n",
      "[[ 0.04786269]\n",
      " [-0.47703041]\n",
      " [ 0.87758256]]\n",
      "Actual distance case 1 is 10.8192561016 \n",
      "\n",
      "[[ 0.09958333]\n",
      " [-0.99251167]\n",
      " [ 0.0707372 ]]\n",
      "[[ 0.04786269]\n",
      " [-0.47703041]\n",
      " [ 0.87758256]]\n",
      "Actual distance case 1 is 10.8192561016 \n",
      "\n",
      "[[-0.10588465]\n",
      " [-0.8711449 ]\n",
      " [-0.11320102]]\n",
      "[[-0.00747825]\n",
      " [-0.60244171]\n",
      " [ 0.7140508 ]]\n",
      "Actual distance case 2 is 10.8310326049 \n",
      "\n",
      "[[-0.10588465]\n",
      " [-0.87626957]\n",
      " [ 0.06212524]]\n",
      "[[-0.00747825]\n",
      " [-0.44857299]\n",
      " [ 0.81950402]]\n",
      "Actual distance case 3 is 10.7663274355 \n",
      "\n"
     ]
    }
   ],
   "source": [
    "# Testing against the geometrically obtained distances\n",
    "R = matrix([0,0,R_num]).T\n",
    "\n",
    "R_omega1i_num = euler_to_matrix(omega1i_num)\n",
    "R_omega2j_num = euler_to_matrix(omega2j_num)\n",
    "V1 = R_omega1i_num*matrix([0,0,ri]).T; print V1\n",
    "V2 = R_omega2j_num*matrix([0,0,rj]).T; print V2\n",
    "Rij = linalg.norm(V1-(V2+R)); print \"Actual distance case 1 is\", Rij,\"\\n\"\n",
    "\n",
    "R_omega1_num = euler_to_matrix(omega1_num)\n",
    "R_omega2_num = euler_to_matrix(omega2_num)\n",
    "V11 = R_omega1_num*V1; print V11\n",
    "V22 = R_omega2_num*V2; print V22\n",
    "Rij = linalg.norm(V11-(V22+R)); print \"Actual distance case 2 is\", Rij,\"\\n\"\n",
    "\n",
    "R_psi_num = euler_to_matrix([0,psi_num,0]).T\n",
    "V111 = R_psi_num*V11; print V111\n",
    "V222 = R_psi_num*V22; print V222\n",
    "Rij = linalg.norm(V111-(V222+R)); print \"Actual distance case 3 is\", Rij,\"\\n\""
   ]
  },
  {
   "cell_type": "code",
   "execution_count": null,
   "metadata": {
    "collapsed": true
   },
   "outputs": [],
   "source": []
  }
 ],
 "metadata": {
  "kernelspec": {
   "display_name": "Python 2",
   "language": "python",
   "name": "python2"
  },
  "language_info": {
   "codemirror_mode": {
    "name": "ipython",
    "version": 2
   },
   "file_extension": ".py",
   "mimetype": "text/x-python",
   "name": "python",
   "nbconvert_exporter": "python",
   "pygments_lexer": "ipython2",
   "version": "2.7.10"
  }
 },
 "nbformat": 4,
 "nbformat_minor": 0
}
